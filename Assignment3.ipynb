{
 "cells": [
  {
   "cell_type": "code",
   "execution_count": 1,
   "id": "8dac4281",
   "metadata": {},
   "outputs": [
    {
     "data": {
      "text/plain": [
       "20"
      ]
     },
     "execution_count": 1,
     "metadata": {},
     "output_type": "execute_result"
    }
   ],
   "source": [
    "#Write a Python function to sum all the numbers in a list.\n",
    "\n",
    "def sum_numbers(numbers):\n",
    "    total = 0\n",
    "    for number in numbers:\n",
    "        total = total+number\n",
    "    return total\n",
    "sum_numbers((8,2,0,3,7))"
   ]
  },
  {
   "cell_type": "code",
   "execution_count": 2,
   "id": "4fecc2d3",
   "metadata": {},
   "outputs": [
    {
     "name": "stdout",
     "output_type": "stream",
     "text": [
      "the string is: 1234abcd\n",
      "the reverse string is: dcba4321\n"
     ]
    }
   ],
   "source": [
    "#Write a Python program to reverse a string.\n",
    "\n",
    "s= \"1234abcd\"\n",
    "def reverse(s):\n",
    "    str=\"\"\n",
    "    for i in s:\n",
    "        str = i + str\n",
    "    return str\n",
    "print(\"the string is:\",end=\" \")\n",
    "print(s)\n",
    "print(\"the reverse string is:\",end=\" \")\n",
    "print(reverse(s))"
   ]
  },
  {
   "cell_type": "code",
   "execution_count": 3,
   "id": "856721a0",
   "metadata": {},
   "outputs": [
    {
     "name": "stdout",
     "output_type": "stream",
     "text": [
      "Expected Output:\n",
      "No. of Upper case characters: 3\n",
      "No. of Lower case characters: 12\n"
     ]
    }
   ],
   "source": [
    "#Write a Python function that accepts a string and calculate the number of upper case letters and lower case letters.\n",
    "def count_upper_lower(input_string):\n",
    "    num_upper = 0\n",
    "    num_lower = 0\n",
    "    for char in input_string:\n",
    "        if char.isupper():\n",
    "            num_upper += 1\n",
    "        elif char.islower():\n",
    "            num_lower += 1\n",
    "    return num_upper, num_lower\n",
    "sample_string = 'The quick Brow Fox'\n",
    "upper_count, lower_count = count_upper_lower(sample_string)\n",
    "\n",
    "print(\"Expected Output:\")\n",
    "print(\"No. of Upper case characters:\", upper_count)\n",
    "print(\"No. of Lower case characters:\", lower_count)\n"
   ]
  },
  {
   "cell_type": "code",
   "execution_count": null,
   "id": "0924cb92",
   "metadata": {},
   "outputs": [],
   "source": []
  }
 ],
 "metadata": {
  "kernelspec": {
   "display_name": "Python 3 (ipykernel)",
   "language": "python",
   "name": "python3"
  },
  "language_info": {
   "codemirror_mode": {
    "name": "ipython",
    "version": 3
   },
   "file_extension": ".py",
   "mimetype": "text/x-python",
   "name": "python",
   "nbconvert_exporter": "python",
   "pygments_lexer": "ipython3",
   "version": "3.10.9"
  }
 },
 "nbformat": 4,
 "nbformat_minor": 5
}
